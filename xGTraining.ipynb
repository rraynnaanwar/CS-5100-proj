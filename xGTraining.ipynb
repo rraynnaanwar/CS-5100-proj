{
 "cells": [
  {
   "cell_type": "code",
   "execution_count": 2,
   "metadata": {
    "ExecuteTime": {
     "end_time": "2025-04-04T22:36:52.369295300Z",
     "start_time": "2025-04-04T22:36:52.213004100Z"
    }
   },
   "outputs": [],
   "source": [
    "import pandas as pd\n",
    "from mplsoccer import Sbopen, Pitch\n",
    "import numpy as np\n",
    "import math"
   ]
  },
  {
   "cell_type": "code",
   "execution_count": 3,
   "metadata": {
    "ExecuteTime": {
     "end_time": "2025-04-04T22:36:52.837199600Z",
     "start_time": "2025-04-04T22:36:52.650986100Z"
    }
   },
   "outputs": [],
   "source": [
    "parser = Sbopen()\n",
    "df_match = parser.match(competition_id=37, season_id=42)\n",
    "match_ids = df_match.match_id.unique()"
   ]
  },
  {
   "cell_type": "code",
   "execution_count": 4,
   "metadata": {
    "ExecuteTime": {
     "end_time": "2025-04-04T22:37:52.191586400Z",
     "start_time": "2025-04-04T22:36:53.602908700Z"
    }
   },
   "outputs": [
    {
     "data": {
      "text/plain": "['id',\n 'index',\n 'period',\n 'timestamp',\n 'minute',\n 'second',\n 'possession',\n 'duration',\n 'match_id',\n 'type_id',\n 'type_name',\n 'possession_team_id',\n 'possession_team_name',\n 'play_pattern_id',\n 'play_pattern_name',\n 'team_id',\n 'team_name',\n 'tactics_formation',\n 'player_id',\n 'player_name',\n 'position_id',\n 'position_name',\n 'pass_recipient_id',\n 'pass_recipient_name',\n 'pass_length',\n 'pass_angle',\n 'pass_height_id',\n 'pass_height_name',\n 'end_x',\n 'end_y',\n 'sub_type_id',\n 'sub_type_name',\n 'body_part_id',\n 'body_part_name',\n 'x',\n 'y',\n 'under_pressure',\n 'outcome_id',\n 'outcome_name',\n 'aerial_won',\n 'counterpress',\n 'out',\n 'ball_recovery_recovery_failure',\n 'pass_assisted_shot_id',\n 'pass_shot_assist',\n 'shot_statsbomb_xg',\n 'end_z',\n 'shot_key_pass_id',\n 'technique_id',\n 'technique_name',\n 'goalkeeper_position_id',\n 'goalkeeper_position_name',\n 'pass_no_touch',\n 'foul_committed_advantage',\n 'foul_won_advantage',\n 'pass_goal_assist',\n 'foul_won_defensive',\n 'pass_cut_back',\n 'shot_one_on_one',\n 'shot_open_goal',\n 'shot_first_time',\n 'dribble_overrun',\n 'pass_cross',\n 'pass_switch',\n 'pass_miscommunication',\n 'foul_committed_penalty',\n 'foul_won_penalty',\n 'dribble_no_touch',\n 'foul_committed_offensive',\n 'substitution_replacement_id',\n 'substitution_replacement_name',\n 'foul_committed_card_id',\n 'foul_committed_card_name',\n 'off_camera',\n 'ball_recovery_offensive',\n 'dribble_nutmeg',\n 'injury_stoppage_in_chain',\n 'pass_deflected',\n 'block_deflection',\n 'shot_deflected',\n 'bad_behaviour_card_id',\n 'bad_behaviour_card_name',\n 'block_offensive',\n 'shot_follows_dribble',\n 'block_save_block',\n 'shot_redirect',\n 'half_start_late_video_start',\n 'half_end_early_video_end']"
     },
     "execution_count": 4,
     "metadata": {},
     "output_type": "execute_result"
    }
   ],
   "source": [
    "all_events_df = []\n",
    "for match_id in match_ids:\n",
    "    events = parser.event(match_id)[0]\n",
    "    # Filter for shot events that are free kicks\n",
    "    free_kick_shots = events[(events['type_name'] == 'Shot') & (events['sub_type_name'] == 'Free Kick')]\n",
    "    all_events_df.append(free_kick_shots)\n",
    "df_shot = pd.concat(all_events_df, ignore_index=True)\n",
    "df_shot.columns.tolist()"
   ]
  },
  {
   "cell_type": "code",
   "execution_count": 7,
   "outputs": [
    {
     "name": "stdout",
     "output_type": "stream",
     "text": [
      "Processing competition 2, season 44...\n",
      "Processing competition 37, season 42...\n",
      "Processing competition 43, season 3...\n",
      "Dataset created with 235 free kicks.\n",
      "\n",
      "Summary Statistics:\n",
      "Total free kicks: 235\n",
      "Goals: 18 (7.66%)\n",
      "Average distance: 28.50\n",
      "Average xG: 0.0373\n"
     ]
    },
    {
     "name": "stderr",
     "output_type": "stream",
     "text": [
      "C:\\Users\\ebrah\\AppData\\Local\\Temp\\ipykernel_53384\\2683041362.py:116: DeprecationWarning: `np.math` is a deprecated alias for the standard library `math` module (Deprecated Numpy 1.25). Replace usages of `np.math` with `math`\n",
      "  angle = np.math.atan2(np.linalg.det([v0,v1]), np.dot(v0,v1))\n"
     ]
    }
   ],
   "source": [
    "import pandas as pd\n",
    "import numpy as np\n",
    "\n",
    "# Assuming you're using StatsBomb's data parser\n",
    "def extract_free_kicks(parser, competition_ids, season_ids):\n",
    "    \"\"\"\n",
    "    Extract free kick shots from multiple competitions and seasons\n",
    "\n",
    "    Parameters:\n",
    "    parser - StatsBomb parser object\n",
    "    competition_ids - list of competition IDs\n",
    "    season_ids - list of season IDs for each competition (should match length of competition_ids)\n",
    "\n",
    "    Returns:\n",
    "    DataFrame with free kick data\n",
    "    \"\"\"\n",
    "    all_free_kicks = []\n",
    "\n",
    "    for comp_id, season_id in zip(competition_ids, season_ids):\n",
    "        print(f\"Processing competition {comp_id}, season {season_id}...\")\n",
    "\n",
    "        # Get all matches for this competition/season\n",
    "        df_match = parser.match(competition_id=comp_id, season_id=season_id)\n",
    "        match_ids = df_match.match_id.unique()\n",
    "\n",
    "        for match_id in match_ids:\n",
    "            try:\n",
    "                # Get events for this match\n",
    "                events = parser.event(match_id)[0]\n",
    "\n",
    "                # Filter for shot events that are free kicks\n",
    "                free_kick_shots = events[(events['type_name'] == 'Shot') &\n",
    "                                        (events['sub_type_name'] == 'Free Kick')].copy()  # Create explicit copy\n",
    "\n",
    "                # Add match and competition context\n",
    "                if not free_kick_shots.empty:\n",
    "                    match_info = df_match[df_match.match_id == match_id].iloc[0]\n",
    "                    free_kick_shots.loc[:, 'competition_name'] = match_info['competition_name']\n",
    "                    free_kick_shots.loc[:, 'season_name'] = match_info['season_name']\n",
    "                    free_kick_shots.loc[:, 'home_team'] = match_info['home_team_name']\n",
    "                    free_kick_shots.loc[:, 'away_team'] = match_info['away_team_name']\n",
    "\n",
    "                    all_free_kicks.append(free_kick_shots)\n",
    "            except Exception as e:\n",
    "                print(f\"Error processing match {match_id}: {e}\")\n",
    "\n",
    "    # Combine all free kicks into a single DataFrame\n",
    "    if all_free_kicks:\n",
    "        df_free_kicks = pd.concat(all_free_kicks, ignore_index=True)\n",
    "        return df_free_kicks\n",
    "    else:\n",
    "        return pd.DataFrame()\n",
    "\n",
    "def process_free_kick_data(df_free_kicks):\n",
    "    \"\"\"\n",
    "    Process and clean free kick data\n",
    "    \"\"\"\n",
    "    # Create a working copy to avoid warnings\n",
    "    df = df_free_kicks.copy()\n",
    "\n",
    "    # Create a binary target variable for goals\n",
    "    df.loc[:, 'is_goal'] = df['outcome_name'].apply(lambda x: 1 if x == 'Goal' else 0)\n",
    "\n",
    "    # Calculate shot angle and distance\n",
    "    df.loc[:, 'shot_angle'] = df.apply(\n",
    "        lambda row: calculate_angle(row['x'], row['y']), axis=1)\n",
    "\n",
    "    df.loc[:, 'shot_distance'] = df.apply(\n",
    "        lambda row: calculate_distance(row['x'], row['y']), axis=1)\n",
    "\n",
    "    # Extract body part used for the shot as a feature\n",
    "    df.loc[:, 'body_part'] = df['body_part_name']\n",
    "\n",
    "    # Determine if the shot was on the left or right side of the field\n",
    "    df.loc[:, 'side_of_field'] = df['y'].apply(\n",
    "        lambda y: 'left' if y < 40 else ('right' if y > 40 else 'center'))\n",
    "\n",
    "    # Determine shot technique\n",
    "    df.loc[:, 'shot_technique'] = df['technique_name']\n",
    "\n",
    "    # Extract time features\n",
    "    df.loc[:, 'game_period'] = df['period']\n",
    "    df.loc[:, 'game_minute'] = df['minute']\n",
    "\n",
    "    # Select important columns for the CSV\n",
    "    selected_columns = [\n",
    "        # Identifiers and context\n",
    "        'id', 'match_id', 'competition_name', 'season_name',\n",
    "\n",
    "\n",
    "\n",
    "        # Shot details\n",
    "        'x', 'y', 'shot_distance', 'shot_angle',\n",
    "        'body_part', 'side_of_field',\n",
    "\n",
    "        # Shot outcomes\n",
    "        'is_goal', 'outcome_name', 'shot_statsbomb_xg',\n",
    "\n",
    "\n",
    "    ]\n",
    "\n",
    "    # Filter only existing columns (in case some are missing)\n",
    "    existing_columns = [col for col in selected_columns if col in df.columns]\n",
    "\n",
    "    return df[existing_columns]\n",
    "\n",
    "# Define the angle and distance calculation functions\n",
    "def calculate_angle(x, y):\n",
    "    \"\"\"Calculate the angle of the shot in degrees\"\"\"\n",
    "    # 44 and 36 is the location of each goal post\n",
    "    g0 = [120, 44]  # Right goal post\n",
    "    p = [x, y]      # Shot position\n",
    "    g1 = [120, 36]  # Left goal post\n",
    "    v0 = np.array(g0) - np.array(p)\n",
    "    v1 = np.array(g1) - np.array(p)\n",
    "    angle = np.math.atan2(np.linalg.det([v0,v1]), np.dot(v0,v1))\n",
    "    return abs(np.degrees(angle))\n",
    "\n",
    "def calculate_distance(x, y):\n",
    "    \"\"\"Calculate the distance to goal in StatsBomb units\"\"\"\n",
    "    x_dist = 120-x\n",
    "    y_dist = 0\n",
    "    if (y<36):\n",
    "        y_dist = 36-y\n",
    "    elif (y>44):\n",
    "        y_dist = y-44\n",
    "    return np.sqrt(x_dist**2 + y_dist**2)\n",
    "\n",
    "# Main execution\n",
    "def create_free_kick_dataset():\n",
    "    # Initialize the StatsBomb parser\n",
    "    parser = Sbopen()\n",
    "\n",
    "    # Define competitions and seasons to include\n",
    "    # Example: [(English Premier League, 2020/21), (La Liga, 2020/21), etc.]\n",
    "    competitions_seasons = [\n",
    "        (2, 44),    # Example: La Liga 2020/21\n",
    "        (37, 42),   # Premier League 2019/20\n",
    "        (43, 3),    # World Cup 2018\n",
    "        # Add more competitions as needed\n",
    "    ]\n",
    "\n",
    "    competition_ids = [comp for comp, _ in competitions_seasons]\n",
    "    season_ids = [season for _, season in competitions_seasons]\n",
    "\n",
    "    # Extract free kick data\n",
    "    free_kicks_df = extract_free_kicks(parser, competition_ids, season_ids)\n",
    "\n",
    "    if not free_kicks_df.empty:\n",
    "        # Process and clean the data\n",
    "        processed_df = process_free_kick_data(free_kicks_df)\n",
    "\n",
    "        # Save to CSV\n",
    "        processed_df.to_csv('free_kicks_dataset.csv', index=False)\n",
    "        print(f\"Dataset created with {len(processed_df)} free kicks.\")\n",
    "\n",
    "        # Generate some summary statistics\n",
    "        print(\"\\nSummary Statistics:\")\n",
    "        goals = processed_df['is_goal'].sum()\n",
    "        total = len(processed_df)\n",
    "        print(f\"Total free kicks: {total}\")\n",
    "        print(f\"Goals: {goals} ({goals/total*100:.2f}%)\")\n",
    "        print(f\"Average distance: {processed_df['shot_distance'].mean():.2f}\")\n",
    "        print(f\"Average xG: {processed_df['shot_statsbomb_xg'].mean():.4f}\")\n",
    "\n",
    "        # Optional: create categorical distance and angle features\n",
    "        processed_df.loc[:, 'distance_category'] = pd.cut(\n",
    "            processed_df['shot_distance'],\n",
    "            bins=[0, 20, 25, 30, 35, 100],\n",
    "            labels=['Very Close', 'Close', 'Medium', 'Far', 'Very Far']\n",
    "        )\n",
    "\n",
    "        processed_df.loc[:, 'angle_category'] = pd.cut(\n",
    "            processed_df['shot_angle'],\n",
    "            bins=[0, 3, 6, 10, 15, 30],\n",
    "            labels=['Terrible', 'Poor', 'Fair', 'Good', 'Great']\n",
    "        )\n",
    "\n",
    "        # Save enhanced version with categories\n",
    "        processed_df.to_csv('free_kicks_dataset_enhanced.csv', index=False)\n",
    "\n",
    "        return processed_df\n",
    "    else:\n",
    "        print(\"No free kick data found.\")\n",
    "        return None\n",
    "\n",
    "# Execute if run as script\n",
    "if __name__ == \"__main__\":\n",
    "    create_free_kick_dataset()"
   ],
   "metadata": {
    "collapsed": false,
    "ExecuteTime": {
     "end_time": "2025-04-04T22:48:09.871769200Z",
     "start_time": "2025-04-04T22:46:41.442193Z"
    }
   }
  },
  {
   "cell_type": "code",
   "execution_count": 4,
   "metadata": {
    "ExecuteTime": {
     "end_time": "2025-04-04T21:49:19.462244900Z",
     "start_time": "2025-04-04T21:49:19.445152400Z"
    }
   },
   "outputs": [],
   "source": [
    "df_shot.columns.to_list()\n",
    "df_goals = df_shot[df_shot.outcome_name == 'Goal'][['x', 'y', 'outcome_name', 'shot_statsbomb_xg']].copy()\n",
    "\n",
    "\n",
    "df_non_goal_shots = df_shot[df_shot.outcome_name != 'Goal'][['x', 'y', 'outcome_name', 'shot_statsbomb_xg']].copy()\n",
    "df_non_goal_shots['outcome_name'] = 'No Goal'"
   ]
  },
  {
   "cell_type": "code",
   "execution_count": 5,
   "metadata": {
    "ExecuteTime": {
     "end_time": "2025-04-04T21:49:20.266834600Z",
     "start_time": "2025-04-04T21:49:20.244175800Z"
    }
   },
   "outputs": [],
   "source": [
    "def calculate_angle(x, y):\n",
    "  # 44 and 36 is the location of each goal post\n",
    "  g0 = [120, 44]\n",
    "  p = [x, y]\n",
    "  g1 = [120, 36]\n",
    "\n",
    "  v0 = np.array(g0) - np.array(p)\n",
    "  v1 = np.array(g1) - np.array(p)\n",
    "\n",
    "  angle = np.math.atan2(np.linalg.det([v0,v1]),np.dot(v0,v1))\n",
    "  return(abs(np.degrees(angle)))\n",
    "\n",
    "def calculate_distance(x, y):\n",
    "  x_dist = 120-x\n",
    "  y_dist = 0\n",
    "  if (y<36):\n",
    "    y_dist = 36-y\n",
    "  elif (y>44):\n",
    "    y_dist = y-44\n",
    "  return math.sqrt(x_dist**2 + y_dist**2)"
   ]
  },
  {
   "cell_type": "code",
   "execution_count": 6,
   "metadata": {
    "ExecuteTime": {
     "end_time": "2025-04-04T21:49:21.365914300Z",
     "start_time": "2025-04-04T21:49:21.313896800Z"
    }
   },
   "outputs": [
    {
     "name": "stderr",
     "output_type": "stream",
     "text": [
      "C:\\Users\\ebrah\\AppData\\Local\\Temp\\ipykernel_9204\\805757160.py:10: DeprecationWarning: `np.math` is a deprecated alias for the standard library `math` module (Deprecated Numpy 1.25). Replace usages of `np.math` with `math`\n",
      "  angle = np.math.atan2(np.linalg.det([v0,v1]),np.dot(v0,v1))\n",
      "C:\\Users\\ebrah\\AppData\\Local\\Temp\\ipykernel_9204\\805757160.py:10: DeprecationWarning: `np.math` is a deprecated alias for the standard library `math` module (Deprecated Numpy 1.25). Replace usages of `np.math` with `math`\n",
      "  angle = np.math.atan2(np.linalg.det([v0,v1]),np.dot(v0,v1))\n"
     ]
    }
   ],
   "source": [
    "df_goals['distance'] = df_goals.apply(lambda row: calculate_distance(row['x'], row['y']), axis=1)\n",
    "df_goals['angle'] = df_goals.apply(lambda row: calculate_angle(row['x'], row['y']), axis=1)\n",
    "\n",
    "# Add distance and angle columns to df_non_goal_shots\n",
    "df_non_goal_shots['distance'] = df_non_goal_shots.apply(lambda row: calculate_distance(row['x'], row['y']), axis=1)\n",
    "df_non_goal_shots['angle'] = df_non_goal_shots.apply(lambda row: calculate_angle(row['x'], row['y']), axis=1)"
   ]
  },
  {
   "cell_type": "code",
   "execution_count": 7,
   "metadata": {
    "ExecuteTime": {
     "end_time": "2025-04-04T21:49:22.573520100Z",
     "start_time": "2025-04-04T21:49:22.533544200Z"
    }
   },
   "outputs": [
    {
     "data": {
      "text/plain": "        x     y outcome_name  shot_statsbomb_xg   distance      angle\n0    93.6  75.6         Goal           0.005921  41.176692   6.186767\n1   101.2  40.0         Goal           0.121448  18.800000  24.022957\n2    97.6  51.2         Goal           0.074687  23.528706  16.340806\n3    90.2  53.7         Goal           0.015563  31.338953  12.678364\n4   100.5  26.2         Goal           0.068447  21.824069  15.708010\n..    ...   ...          ...                ...        ...        ...\n65   83.7  38.0      No Goal           0.012272  36.300000  12.539122\n66   94.1  26.1      No Goal           0.041974  27.727604  13.730289\n67   86.0  35.3      No Goal           0.020629  34.007205  13.173558\n68  108.5  15.3      No Goal           0.008374  23.679949   7.218783\n69   80.1  41.4      No Goal           0.007005  39.900000  11.435774\n\n[70 rows x 6 columns]",
      "text/html": "<div>\n<style scoped>\n    .dataframe tbody tr th:only-of-type {\n        vertical-align: middle;\n    }\n\n    .dataframe tbody tr th {\n        vertical-align: top;\n    }\n\n    .dataframe thead th {\n        text-align: right;\n    }\n</style>\n<table border=\"1\" class=\"dataframe\">\n  <thead>\n    <tr style=\"text-align: right;\">\n      <th></th>\n      <th>x</th>\n      <th>y</th>\n      <th>outcome_name</th>\n      <th>shot_statsbomb_xg</th>\n      <th>distance</th>\n      <th>angle</th>\n    </tr>\n  </thead>\n  <tbody>\n    <tr>\n      <th>0</th>\n      <td>93.6</td>\n      <td>75.6</td>\n      <td>Goal</td>\n      <td>0.005921</td>\n      <td>41.176692</td>\n      <td>6.186767</td>\n    </tr>\n    <tr>\n      <th>1</th>\n      <td>101.2</td>\n      <td>40.0</td>\n      <td>Goal</td>\n      <td>0.121448</td>\n      <td>18.800000</td>\n      <td>24.022957</td>\n    </tr>\n    <tr>\n      <th>2</th>\n      <td>97.6</td>\n      <td>51.2</td>\n      <td>Goal</td>\n      <td>0.074687</td>\n      <td>23.528706</td>\n      <td>16.340806</td>\n    </tr>\n    <tr>\n      <th>3</th>\n      <td>90.2</td>\n      <td>53.7</td>\n      <td>Goal</td>\n      <td>0.015563</td>\n      <td>31.338953</td>\n      <td>12.678364</td>\n    </tr>\n    <tr>\n      <th>4</th>\n      <td>100.5</td>\n      <td>26.2</td>\n      <td>Goal</td>\n      <td>0.068447</td>\n      <td>21.824069</td>\n      <td>15.708010</td>\n    </tr>\n    <tr>\n      <th>...</th>\n      <td>...</td>\n      <td>...</td>\n      <td>...</td>\n      <td>...</td>\n      <td>...</td>\n      <td>...</td>\n    </tr>\n    <tr>\n      <th>65</th>\n      <td>83.7</td>\n      <td>38.0</td>\n      <td>No Goal</td>\n      <td>0.012272</td>\n      <td>36.300000</td>\n      <td>12.539122</td>\n    </tr>\n    <tr>\n      <th>66</th>\n      <td>94.1</td>\n      <td>26.1</td>\n      <td>No Goal</td>\n      <td>0.041974</td>\n      <td>27.727604</td>\n      <td>13.730289</td>\n    </tr>\n    <tr>\n      <th>67</th>\n      <td>86.0</td>\n      <td>35.3</td>\n      <td>No Goal</td>\n      <td>0.020629</td>\n      <td>34.007205</td>\n      <td>13.173558</td>\n    </tr>\n    <tr>\n      <th>68</th>\n      <td>108.5</td>\n      <td>15.3</td>\n      <td>No Goal</td>\n      <td>0.008374</td>\n      <td>23.679949</td>\n      <td>7.218783</td>\n    </tr>\n    <tr>\n      <th>69</th>\n      <td>80.1</td>\n      <td>41.4</td>\n      <td>No Goal</td>\n      <td>0.007005</td>\n      <td>39.900000</td>\n      <td>11.435774</td>\n    </tr>\n  </tbody>\n</table>\n<p>70 rows × 6 columns</p>\n</div>"
     },
     "execution_count": 7,
     "metadata": {},
     "output_type": "execute_result"
    }
   ],
   "source": [
    "df = pd.concat([df_goals, df_non_goal_shots], axis=0)\n",
    "\n",
    "# Reset index (optional)\n",
    "df = df.reset_index(drop=True)\n",
    "df\n"
   ]
  },
  {
   "cell_type": "code",
   "execution_count": 8,
   "metadata": {
    "ExecuteTime": {
     "end_time": "2025-04-04T21:49:23.777064800Z",
     "start_time": "2025-04-04T21:49:23.735898700Z"
    }
   },
   "outputs": [
    {
     "name": "stdout",
     "output_type": "stream",
     "text": [
      "              distance  angle\n",
      "outcome_name                 \n",
      "Goal             27.17  15.24\n",
      "No Goal          28.61  13.54\n"
     ]
    }
   ],
   "source": [
    "summary_stats = df.groupby('outcome_name')[['distance', 'angle']].mean().round(2)\n",
    "print(summary_stats)"
   ]
  },
  {
   "cell_type": "code",
   "execution_count": 1,
   "outputs": [
    {
     "ename": "NameError",
     "evalue": "name 'df' is not defined",
     "output_type": "error",
     "traceback": [
      "\u001B[1;31m---------------------------------------------------------------------------\u001B[0m",
      "\u001B[1;31mNameError\u001B[0m                                 Traceback (most recent call last)",
      "Cell \u001B[1;32mIn[1], line 11\u001B[0m\n\u001B[0;32m      8\u001B[0m \u001B[38;5;28;01mimport\u001B[39;00m\u001B[38;5;250m \u001B[39m\u001B[38;5;21;01mseaborn\u001B[39;00m\u001B[38;5;250m \u001B[39m\u001B[38;5;28;01mas\u001B[39;00m\u001B[38;5;250m \u001B[39m\u001B[38;5;21;01msns\u001B[39;00m\n\u001B[0;32m     10\u001B[0m \u001B[38;5;66;03m# Convert categorical outcome to binary (which you've already done)\u001B[39;00m\n\u001B[1;32m---> 11\u001B[0m df[\u001B[38;5;124m'\u001B[39m\u001B[38;5;124mlabel\u001B[39m\u001B[38;5;124m'\u001B[39m] \u001B[38;5;241m=\u001B[39m \u001B[43mdf\u001B[49m[\u001B[38;5;124m'\u001B[39m\u001B[38;5;124moutcome_name\u001B[39m\u001B[38;5;124m'\u001B[39m]\u001B[38;5;241m.\u001B[39mapply(\u001B[38;5;28;01mlambda\u001B[39;00m x: \u001B[38;5;241m1\u001B[39m \u001B[38;5;28;01mif\u001B[39;00m x \u001B[38;5;241m==\u001B[39m \u001B[38;5;124m'\u001B[39m\u001B[38;5;124mGoal\u001B[39m\u001B[38;5;124m'\u001B[39m \u001B[38;5;28;01melse\u001B[39;00m \u001B[38;5;241m0\u001B[39m)\n\u001B[0;32m     13\u001B[0m \u001B[38;5;66;03m# Feature selection - you can keep these or add more\u001B[39;00m\n\u001B[0;32m     14\u001B[0m features \u001B[38;5;241m=\u001B[39m [\u001B[38;5;124m'\u001B[39m\u001B[38;5;124mdistance\u001B[39m\u001B[38;5;124m'\u001B[39m, \u001B[38;5;124m'\u001B[39m\u001B[38;5;124mangle\u001B[39m\u001B[38;5;124m'\u001B[39m, \u001B[38;5;124m'\u001B[39m\u001B[38;5;124mshot_statsbomb_xg\u001B[39m\u001B[38;5;124m'\u001B[39m]\n",
      "\u001B[1;31mNameError\u001B[0m: name 'df' is not defined"
     ]
    }
   ],
   "source": [
    "import pandas as pd\n",
    "import numpy as np\n",
    "from sklearn.model_selection import train_test_split, cross_val_score\n",
    "from sklearn.linear_model import LogisticRegression\n",
    "from sklearn.metrics import classification_report, confusion_matrix, roc_curve, auc\n",
    "from sklearn.preprocessing import StandardScaler\n",
    "import matplotlib.pyplot as plt\n",
    "import seaborn as sns\n",
    "\n",
    "# Convert categorical outcome to binary (which you've already done)\n",
    "df['label'] = df['outcome_name'].apply(lambda x: 1 if x == 'Goal' else 0)\n",
    "\n",
    "# Feature selection - you can keep these or add more\n",
    "features = ['distance', 'angle', 'shot_statsbomb_xg']\n",
    "X = df[features]\n",
    "y = df['label']\n",
    "\n",
    "# Scale features (important for logistic regression)\n",
    "scaler = StandardScaler()\n",
    "X_scaled = scaler.fit_transform(X)\n",
    "X_scaled_df = pd.DataFrame(X_scaled, columns=features)\n",
    "\n",
    "# Split the data\n",
    "X_train, X_test, y_train, y_test = train_test_split(X_scaled_df, y, test_size=0.3, random_state=42)\n",
    "\n",
    "# Create and train the logistic regression model\n",
    "# C parameter controls regularization strength (smaller = stronger regularization)\n",
    "model = LogisticRegression(C=1.0, random_state=42, max_iter=1000)\n",
    "model.fit(X_train, y_train)\n",
    "\n",
    "# Make predictions\n",
    "y_pred_proba = model.predict_proba(X_test)[:, 1]  # Probability of being a goal\n",
    "y_pred = model.predict(X_test)  # Binary prediction\n",
    "\n",
    "# Evaluate the model\n",
    "print(\"Confusion Matrix:\")\n",
    "conf_matrix = confusion_matrix(y_test, y_pred)\n",
    "print(conf_matrix)\n",
    "\n",
    "print(\"\\nClassification Report:\")\n",
    "print(classification_report(y_test, y_pred))\n",
    "\n",
    "# Get feature importance\n",
    "coefficients = pd.DataFrame({\n",
    "    'Feature': features,\n",
    "    'Coefficient': model.coef_[0]\n",
    "})\n",
    "print(\"\\nFeature Importance:\")\n",
    "print(coefficients.sort_values('Coefficient', ascending=False))\n",
    "\n",
    "# Cross-validation\n",
    "cv_scores = cross_val_score(model, X_scaled_df, y, cv=5, scoring='roc_auc')\n",
    "print(f\"\\nCross-Validation ROC AUC Scores: {cv_scores}\")\n",
    "print(f\"Mean CV ROC AUC: {cv_scores.mean():.3f} ± {cv_scores.std():.3f}\")\n",
    "\n",
    "# ROC Curve\n",
    "fpr, tpr, _ = roc_curve(y_test, y_pred_proba)\n",
    "roc_auc = auc(fpr, tpr)\n",
    "\n",
    "plt.figure(figsize=(10, 8))\n",
    "\n",
    "# ROC curve\n",
    "plt.subplot(2, 2, 1)\n",
    "plt.plot(fpr, tpr, color='darkorange', lw=2, label=f'ROC curve (area = {roc_auc:.2f})')\n",
    "plt.plot([0, 1], [0, 1], color='navy', lw=2, linestyle='--')\n",
    "plt.xlim([0.0, 1.0])\n",
    "plt.ylim([0.0, 1.05])\n",
    "plt.xlabel('False Positive Rate')\n",
    "plt.ylabel('True Positive Rate')\n",
    "plt.title('Receiver Operating Characteristic')\n",
    "plt.legend(loc=\"lower right\")\n",
    "\n",
    "# Confusion matrix visualization\n",
    "plt.subplot(2, 2, 2)\n",
    "sns.heatmap(conf_matrix, annot=True, fmt=\"d\", cmap=\"Blues\",\n",
    "            xticklabels=['No Goal', 'Goal'], yticklabels=['No Goal', 'Goal'])\n",
    "plt.title('Confusion Matrix')\n",
    "plt.ylabel('Actual')\n",
    "plt.xlabel('Predicted')\n",
    "\n",
    "# Feature importance\n",
    "plt.subplot(2, 2, 3)\n",
    "sns.barplot(x='Feature', y='Coefficient', data=coefficients.sort_values('Coefficient', ascending=False))\n",
    "plt.title('Feature Importance')\n",
    "plt.xticks(rotation=45)\n",
    "plt.tight_layout()\n",
    "\n",
    "# Prediction probability distribution\n",
    "plt.subplot(2, 2, 4)\n",
    "sns.histplot(data=pd.DataFrame({\n",
    "    'Goal Probability': y_pred_proba,\n",
    "    'Actual': y_test\n",
    "}), x='Goal Probability', hue='Actual', bins=20, element='step')\n",
    "plt.title('Prediction Probability Distribution')\n",
    "plt.tight_layout()\n",
    "\n",
    "plt.show()\n",
    "\n",
    "# Create a table comparing actual goals vs xG\n",
    "comparison_df = pd.DataFrame({\n",
    "    'Actual': y_test.reset_index(drop=True),\n",
    "    'Predicted': y_pred,\n",
    "    'Probability': y_pred_proba,\n",
    "    'StatsBomb xG': X_test['shot_statsbomb_xg'].reset_index(drop=True) if 'shot_statsbomb_xg' in X_test.columns else np.nan,\n",
    "    'Distance': X_test['distance'].reset_index(drop=True),\n",
    "    'Angle': X_test['angle'].reset_index(drop=True)\n",
    "})\n",
    "\n",
    "# Display first few rows\n",
    "print(\"\\nComparison of Actual vs Predicted:\")\n",
    "print(comparison_df.head(10))"
   ],
   "metadata": {
    "collapsed": false,
    "ExecuteTime": {
     "end_time": "2025-04-04T22:36:44.633947200Z",
     "start_time": "2025-04-04T22:36:42.648507400Z"
    }
   }
  },
  {
   "cell_type": "code",
   "execution_count": 11,
   "outputs": [
    {
     "data": {
      "text/plain": "<Figure size 1000x600 with 1 Axes>",
      "image/png": "[encoded data removed]"
     },
     "metadata": {},
     "output_type": "display_data"
    }
   ],
   "source": [],
   "metadata": {
    "collapsed": false,
    "ExecuteTime": {
     "end_time": "2025-04-04T21:55:07.684945500Z",
     "start_time": "2025-04-04T21:55:07.280844100Z"
    }
   }
  },
  {
   "cell_type": "code",
   "execution_count": null,
   "outputs": [],
   "source": [],
   "metadata": {
    "collapsed": false,
    "is_executing": true
   }
  },
  {
   "cell_type": "code",
   "execution_count": null,
   "outputs": [],
   "source": [],
   "metadata": {
    "collapsed": false
   }
  }
 ],
 "metadata": {
  "kernelspec": {
   "display_name": "Python 3",
   "language": "python",
   "name": "python3"
  },
  "language_info": {
   "codemirror_mode": {
    "name": "ipython",
    "version": 3
   },
   "file_extension": ".py",
   "mimetype": "text/x-python",
   "name": "python",
   "nbconvert_exporter": "python",
   "pygments_lexer": "ipython3",
   "version": "3.12.4"
  }
 },
 "nbformat": 4,
 "nbformat_minor": 2
}
